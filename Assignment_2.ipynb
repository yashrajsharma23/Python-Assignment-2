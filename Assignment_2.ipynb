{
 "cells": [
  {
   "cell_type": "markdown",
   "metadata": {},
   "source": [
    "# Task 1.1"
   ]
  },
  {
   "cell_type": "code",
   "execution_count": 52,
   "metadata": {},
   "outputs": [
    {
     "data": {
      "text/plain": [
       "120"
      ]
     },
     "execution_count": 52,
     "metadata": {},
     "output_type": "execute_result"
    }
   ],
   "source": [
    "#Implement your own myreduce() function which works exactly like\n",
    "#Python's built-in function reduce()\n",
    "from functools import reduce\n",
    "def myreduce(x,y):\n",
    "    if(x=='*'):\n",
    "        a=1\n",
    "    else:\n",
    "        a=0\n",
    "    for i in y:\n",
    "        if(x=='+'):\n",
    "            a = i + a \n",
    "        elif(x=='*'):\n",
    "            a=i*a\n",
    "        else:\n",
    "            return 'You have not entered valid operation symbol'\n",
    "    return a\n",
    "\n",
    "l=[5,2,3,1,4]\n",
    "c=myreduce('*',l)\n",
    "c\n"
   ]
  },
  {
   "cell_type": "markdown",
   "metadata": {},
   "source": [
    "# Task 1.2"
   ]
  },
  {
   "cell_type": "code",
   "execution_count": 53,
   "metadata": {},
   "outputs": [
    {
     "data": {
      "text/plain": [
       "[2, 4, 8, 10]"
      ]
     },
     "execution_count": 53,
     "metadata": {},
     "output_type": "execute_result"
    }
   ],
   "source": [
    "#Implement your own myfilter() function which works exactly like\n",
    "#Python's built-in function filter()\n",
    "def myfilter(x):\n",
    "    y=[]\n",
    "    for i in x:\n",
    "        if i%2==0:\n",
    "            y.append(i)\n",
    "    return y\n",
    "\n",
    "l=[5,2,3,1,4,8,10]\n",
    "l=myfilter(l)\n",
    "l"
   ]
  },
  {
   "cell_type": "markdown",
   "metadata": {},
   "source": [
    "# Task 1:2"
   ]
  },
  {
   "cell_type": "markdown",
   "metadata": {},
   "source": [
    "# Task 1:2(i)"
   ]
  },
  {
   "cell_type": "code",
   "execution_count": 1,
   "metadata": {},
   "outputs": [
    {
     "data": {
      "text/plain": [
       "['A', 'C', 'A', 'D', 'G', 'I', 'L', 'D']"
      ]
     },
     "execution_count": 1,
     "metadata": {},
     "output_type": "execute_result"
    }
   ],
   "source": [
    "#Implement List comprehensions to produce the given lists.\n",
    "#o/p should be : ['A', 'C', 'A', 'D', 'G', 'I', ’L’, ‘ D’]\n",
    "#[m*2 for m in [i[2] for i in [[1,2,3],[4,5,6],[7,8,9]]]]\n",
    "[i for i in \"ACADGILD\"]"
   ]
  },
  {
   "cell_type": "markdown",
   "metadata": {},
   "source": [
    "# Task 1:2(ii)"
   ]
  },
  {
   "cell_type": "code",
   "execution_count": 24,
   "metadata": {},
   "outputs": [
    {
     "data": {
      "text/plain": [
       "['x', 'xx', 'xxx', 'xxxx', 'y', 'yy', 'yyy', 'yyyy', 'z', 'zz', 'zzz', 'zzzz']"
      ]
     },
     "execution_count": 24,
     "metadata": {},
     "output_type": "execute_result"
    }
   ],
   "source": [
    "#o/p should be : ['x', 'xx', 'xxx', 'xxxx', 'y', 'yy', 'yyy', 'yyyy', 'z', 'zz', 'zzz', 'zzzz']\n",
    "\n",
    "a=[i for i in \"xyz\"]\n",
    "b=[j+j for j in a]\n",
    "c=[k+k+k for k in a]\n",
    "d=[l+l+l+l for l in a]\n",
    "d=c+a+b+d\n",
    "d.sort()\n",
    "d"
   ]
  },
  {
   "cell_type": "code",
   "execution_count": 62,
   "metadata": {},
   "outputs": [
    {
     "data": {
      "text/plain": [
       "['x', 'xx', 'xxx', 'xxxx', 'y', 'yy', 'yyy', 'yyyy', 'z', 'zz', 'zzz', 'zzzz']"
      ]
     },
     "execution_count": 62,
     "metadata": {},
     "output_type": "execute_result"
    }
   ],
   "source": [
    "d='xyz'\n",
    "f=[]\n",
    "for i in d:\n",
    "    mystring=i\n",
    "    f.append(i)\n",
    "    for j in i:\n",
    "        f.append(j+j)\n",
    "        for k in j:\n",
    "            f.append(k+k+k)\n",
    "            for l in k:\n",
    "                f.append(l+l+l+l)\n",
    "f"
   ]
  },
  {
   "cell_type": "code",
   "execution_count": null,
   "metadata": {},
   "outputs": [],
   "source": []
  },
  {
   "cell_type": "markdown",
   "metadata": {},
   "source": [
    "# Task 1:2(iii)"
   ]
  },
  {
   "cell_type": "code",
   "execution_count": 87,
   "metadata": {},
   "outputs": [
    {
     "data": {
      "text/plain": [
       "['x', 'y', 'z', 'xx', 'yy', 'zz', 'xxx', 'yyy', 'zzz', 'xxxx', 'yyyy', 'zzzz']"
      ]
     },
     "execution_count": 87,
     "metadata": {},
     "output_type": "execute_result"
    }
   ],
   "source": [
    "#o/p should be :['x', 'y', 'z', 'xx', 'yy', 'zz', 'xx', 'yy', 'zz', 'xxxx', 'yyyy', 'zzzz']\n",
    "\n",
    "a=[i for i in \"xyz\"]\n",
    "b=[j+j for j in a]\n",
    "c=[k+k+k for k in a]\n",
    "d=[l+l+l+l for l in a]\n",
    "d=a+b+c+d\n",
    "d\n",
    "\n",
    "#[(a,b,c,d) for i,j,k,l in zip(\"xyz\",a,z,c)]\n"
   ]
  },
  {
   "cell_type": "markdown",
   "metadata": {},
   "source": [
    "# Task 1:2(iv)"
   ]
  },
  {
   "cell_type": "code",
   "execution_count": 7,
   "metadata": {},
   "outputs": [
    {
     "data": {
      "text/plain": [
       "[[2], [3], [4], [3], [4], [5], [4], [5], [6]]"
      ]
     },
     "execution_count": 7,
     "metadata": {},
     "output_type": "execute_result"
    }
   ],
   "source": [
    "#o/p should be : [[2], [3], [4], [3], [4], [5], [4], [5], [6]]\n",
    "l=[[[i],[j],[k]] for i,j,k in zip(range(2,5),range(3,6),range(4,7))]\n",
    "l=l[0]+l[1]+l[2]\n",
    "l"
   ]
  },
  {
   "cell_type": "markdown",
   "metadata": {},
   "source": [
    "# Task 1:2(v)"
   ]
  },
  {
   "cell_type": "code",
   "execution_count": 15,
   "metadata": {},
   "outputs": [
    {
     "data": {
      "text/plain": [
       "[[2, 3, 4, 5], [3, 4, 5, 6], [4, 5, 6, 7], [5, 6, 7, 8]]"
      ]
     },
     "execution_count": 15,
     "metadata": {},
     "output_type": "execute_result"
    }
   ],
   "source": [
    "#o/p should be : [[2, 3, 4, 5], [3, 4, 5, 6], [4, 5, 6, 7], [5, 6, 7, 8]]\n",
    "[[i,j,k,l] for i,j,k,l in zip(range(2,6),range(3,7),range(4,8),range(5,9))]"
   ]
  },
  {
   "cell_type": "markdown",
   "metadata": {},
   "source": [
    "# Task 1:2(vi)"
   ]
  },
  {
   "cell_type": "code",
   "execution_count": 12,
   "metadata": {},
   "outputs": [
    {
     "data": {
      "text/plain": [
       "[(1, 1), (2, 1), (3, 1), (1, 2), (2, 2), (3, 2), (1, 3), (2, 3), (3, 3)]"
      ]
     },
     "execution_count": 12,
     "metadata": {},
     "output_type": "execute_result"
    }
   ],
   "source": [
    "#o/p should be :[(1, 1), (2, 1), (3, 1), (1, 2), (2, 2), (3, 2), (1, 3), (2, 3), (3, 3)]\n",
    "m=[[(j,i) for j in range(1,4)]for i in range(1,4)]\n",
    "m = m[0]+m[1]+m[2]\n",
    "m"
   ]
  },
  {
   "cell_type": "markdown",
   "metadata": {},
   "source": [
    "# Task 1.3"
   ]
  },
  {
   "cell_type": "code",
   "execution_count": 48,
   "metadata": {},
   "outputs": [
    {
     "name": "stdout",
     "output_type": "stream",
     "text": [
      "Please enter comma separated words to get the longest word : yash,raj,sharma,xxx,yyy\n"
     ]
    },
    {
     "data": {
      "text/plain": [
       "6"
      ]
     },
     "execution_count": 48,
     "metadata": {},
     "output_type": "execute_result"
    }
   ],
   "source": [
    "#Implement a function longestWord() that takes a list of words and returns the longest one.\n",
    "def longestWord(x):\n",
    "    a=0\n",
    "    b=0\n",
    "    for i in x:\n",
    "        a=len(i)\n",
    "        if b>a:\n",
    "            a=b\n",
    "        else:\n",
    "            b=a\n",
    "    return a\n",
    "            \n",
    "a= [str(i) for i in input(\"Please enter comma separated words to get the longest word : \").split(',')]\n",
    "a=longestWord(list(a))\n",
    "a\n",
    "#print(a)"
   ]
  },
  {
   "cell_type": "markdown",
   "metadata": {},
   "source": [
    "# Task 2.1.1:"
   ]
  },
  {
   "cell_type": "code",
   "execution_count": 14,
   "metadata": {},
   "outputs": [
    {
     "name": "stdout",
     "output_type": "stream",
     "text": [
      "Please enter comma separated lenght of 3 sides of triangle 3,4,5\n",
      "Area of triangle is :  6.0 sq. units\n"
     ]
    }
   ],
   "source": [
    "#To find the area of the triangle using the below\n",
    "#formula : area = (s*(s-a)*(s-b)*(s-c)) ** 0.5\n",
    "#Function to take the length of the sides of triangle from user should be defined in the parent\n",
    "#class and function to calculate the area should be defined in subclass.\n",
    "class triangle():\n",
    "    def takeLenght():\n",
    "        return [int(i) for i in input(\"Please enter comma separated lenght of 3 sides of triangle \").split(',')]\n",
    "class calculate(triangle):\n",
    "    def calculatefunc():\n",
    "        a=triangle.takeLenght()\n",
    "        s=0.5*(a[0]+a[1]+a[2])\n",
    "        area=(s*(s-a[0])*(s-a[1])*(s-a[2]))**0.5\n",
    "        print(\"Area of triangle is : \",area,\"sq. units\")\n",
    "    calculatefunc()"
   ]
  },
  {
   "cell_type": "markdown",
   "metadata": {},
   "source": [
    "# Task 2.1.2:"
   ]
  },
  {
   "cell_type": "code",
   "execution_count": 20,
   "metadata": {},
   "outputs": [
    {
     "name": "stdout",
     "output_type": "stream",
     "text": [
      "Please enter comma separated words : yash,yashraj,raj,sharma,xxxx,zzzzzzz\n",
      "Please enter the value of n : 5\n",
      "['yashraj', 'sharma', 'zzzzzzz']\n"
     ]
    }
   ],
   "source": [
    "# A function filter_long_words() that takes a list of words and an integer n and returns the list\n",
    "#of words that are longer than n.\n",
    "def filter_long_words(x,n):\n",
    "    y=[]\n",
    "    for i in x:\n",
    "        if(len(i)>n):\n",
    "            y.append(i)\n",
    "    print(y)\n",
    "x=[str(i) for i in input(\"Please enter comma separated words : \").split(',')]\n",
    "n=int(input(\"Please enter the value of n : \"))\n",
    "filter_long_words(x,n)"
   ]
  },
  {
   "cell_type": "markdown",
   "metadata": {},
   "source": [
    "# Task 2.2.1:"
   ]
  },
  {
   "cell_type": "code",
   "execution_count": 27,
   "metadata": {},
   "outputs": [
    {
     "name": "stdout",
     "output_type": "stream",
     "text": [
      "Please enter comma separated words to get the lenght of it : yash,raj,sharma,xxx,yyy,zzzzz\n",
      "[4, 3, 6, 3, 3, 5]\n"
     ]
    }
   ],
   "source": [
    "# function concept that maps list of words into a list of integers\n",
    "#representing the lengths of the corresponding words.\n",
    "def lenghtOfWords(x):\n",
    "    y=[]\n",
    "    for i in x:\n",
    "       y.append(len(i))\n",
    "    print(y)\n",
    "lenghtOfWords([str(i) for i in input(\"Please enter comma separated words to get the lenght of it : \").split(',')])\n",
    "#[len(i) for i in input(\"Please enter comma separated words to get the lenght of it : \").split(',')]"
   ]
  },
  {
   "cell_type": "markdown",
   "metadata": {},
   "source": [
    "# Task 2.2.2:"
   ]
  },
  {
   "cell_type": "code",
   "execution_count": 47,
   "metadata": {},
   "outputs": [
    {
     "name": "stdout",
     "output_type": "stream",
     "text": [
      "Please enter any letter : A\n"
     ]
    },
    {
     "data": {
      "text/plain": [
       "True"
      ]
     },
     "execution_count": 47,
     "metadata": {},
     "output_type": "execute_result"
    }
   ],
   "source": [
    "# function which takes a character (i.e. a string of length 1) and returns True if it is\n",
    "#a vowel, False otherwise.\n",
    "def isVowel(x):\n",
    "    y=['A','a','E','e','I','i','O','o','U','u']\n",
    "    isVowel=False\n",
    "    for i in y:\n",
    "        if x==i:\n",
    "            isVowel=True\n",
    "            break\n",
    "        else:\n",
    "            isVowel=False\n",
    "    return isVowel\n",
    "isVowel(input(\"Please enter any letter : \"))"
   ]
  },
  {
   "cell_type": "code",
   "execution_count": null,
   "metadata": {},
   "outputs": [],
   "source": []
  },
  {
   "cell_type": "code",
   "execution_count": null,
   "metadata": {},
   "outputs": [],
   "source": []
  }
 ],
 "metadata": {
  "kernelspec": {
   "display_name": "Python 3",
   "language": "python",
   "name": "python3"
  },
  "language_info": {
   "codemirror_mode": {
    "name": "ipython",
    "version": 3
   },
   "file_extension": ".py",
   "mimetype": "text/x-python",
   "name": "python",
   "nbconvert_exporter": "python",
   "pygments_lexer": "ipython3",
   "version": "3.7.6"
  }
 },
 "nbformat": 4,
 "nbformat_minor": 4
}
